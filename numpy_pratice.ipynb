{
  "nbformat": 4,
  "nbformat_minor": 0,
  "metadata": {
    "colab": {
      "name": "Untitled9.ipynb",
      "provenance": [],
      "toc_visible": true,
      "authorship_tag": "ABX9TyN7sKY/1N9SonWlybimJ64/",
      "include_colab_link": true
    },
    "kernelspec": {
      "name": "python3",
      "display_name": "Python 3"
    },
    "language_info": {
      "name": "python"
    }
  },
  "cells": [
    {
      "cell_type": "markdown",
      "metadata": {
        "id": "view-in-github",
        "colab_type": "text"
      },
      "source": [
        "<a href=\"https://colab.research.google.com/github/andy3964600/API_method/blob/master/numpy_pratice.ipynb\" target=\"_parent\"><img src=\"https://colab.research.google.com/assets/colab-badge.svg\" alt=\"Open In Colab\"/></a>"
      ]
    },
    {
      "cell_type": "markdown",
      "metadata": {
        "id": "1LqVvNyDIr9s"
      },
      "source": [
        "Initializing Different Types of Arrays"
      ]
    },
    {
      "cell_type": "code",
      "metadata": {
        "colab": {
          "base_uri": "https://localhost:8080/"
        },
        "id": "GTlRM56RuTR9",
        "outputId": "ff3282c4-b8ad-4a6b-fc5b-781940c7c7c1"
      },
      "source": [
        "import numpy as np\n",
        "#all zero matrix\n",
        "np.zeros((5,5))\n"
      ],
      "execution_count": null,
      "outputs": [
        {
          "output_type": "execute_result",
          "data": {
            "text/plain": [
              "array([[[5., 5., 5., 5.],\n",
              "        [5., 5., 5., 5.],\n",
              "        [5., 5., 5., 5.]],\n",
              "\n",
              "       [[5., 5., 5., 5.],\n",
              "        [5., 5., 5., 5.],\n",
              "        [5., 5., 5., 5.]]])"
            ]
          },
          "metadata": {},
          "execution_count": 39
        }
      ]
    },
    {
      "cell_type": "code",
      "metadata": {
        "id": "vSRGxwKhJBN-"
      },
      "source": [
        "#all 1 matrix\n",
        "np.ones((2,5,4),dtype = int)\n"
      ],
      "execution_count": null,
      "outputs": []
    },
    {
      "cell_type": "code",
      "metadata": {
        "colab": {
          "base_uri": "https://localhost:8080/"
        },
        "id": "qdhcBG9UNwPp",
        "outputId": "e462383b-9e08-4f2d-b78c-8eba7c55ca52"
      },
      "source": [
        "#all full matrix\n",
        "a = np.full((2,3,4),5)\n",
        "a.shape"
      ],
      "execution_count": null,
      "outputs": [
        {
          "output_type": "execute_result",
          "data": {
            "text/plain": [
              "(2, 3, 4)"
            ]
          },
          "metadata": {},
          "execution_count": 47
        }
      ]
    },
    {
      "cell_type": "code",
      "metadata": {
        "colab": {
          "base_uri": "https://localhost:8080/"
        },
        "id": "YIAFW75DNx-G",
        "outputId": "5274607b-9072-4d50-f89d-ae5673b5d445"
      },
      "source": [
        "# Any other number (full_like)\n",
        "np.full_like(a,4)"
      ],
      "execution_count": null,
      "outputs": [
        {
          "output_type": "execute_result",
          "data": {
            "text/plain": [
              "array([[[4, 4, 4, 4],\n",
              "        [4, 4, 4, 4],\n",
              "        [4, 4, 4, 4]],\n",
              "\n",
              "       [[4, 4, 4, 4],\n",
              "        [4, 4, 4, 4],\n",
              "        [4, 4, 4, 4]]])"
            ]
          },
          "metadata": {},
          "execution_count": 50
        }
      ]
    },
    {
      "cell_type": "code",
      "metadata": {
        "colab": {
          "base_uri": "https://localhost:8080/"
        },
        "id": "bI74qBuxOFLI",
        "outputId": "0d21e796-a198-45e5-9cef-d7abff8990be"
      },
      "source": [
        "# Random decimal numbers = array.shape()\n",
        "np.random.rand(3,4,5)"
      ],
      "execution_count": null,
      "outputs": [
        {
          "output_type": "execute_result",
          "data": {
            "text/plain": [
              "array([[[0.94913218, 0.16541808, 0.96792706, 0.52189326, 0.94445547],\n",
              "        [0.46991604, 0.07326783, 0.39531404, 0.68280487, 0.978461  ],\n",
              "        [0.4171495 , 0.8430752 , 0.05507786, 0.43966079, 0.49414107],\n",
              "        [0.96418737, 0.17297877, 0.84542999, 0.54531126, 0.5610125 ]],\n",
              "\n",
              "       [[0.96439936, 0.45243768, 0.91438167, 0.6482995 , 0.86597361],\n",
              "        [0.19551977, 0.36152407, 0.23309583, 0.00684102, 0.42697465],\n",
              "        [0.67530623, 0.1426269 , 0.68102088, 0.795254  , 0.45507984],\n",
              "        [0.09074559, 0.07618704, 0.63208706, 0.10521497, 0.74828906]],\n",
              "\n",
              "       [[0.47831139, 0.52772334, 0.9490249 , 0.38705248, 0.398383  ],\n",
              "        [0.25891055, 0.6502737 , 0.71801144, 0.93301878, 0.1916333 ],\n",
              "        [0.96246704, 0.9565909 , 0.59529901, 0.11734782, 0.13334078],\n",
              "        [0.79020644, 0.78027077, 0.3292105 , 0.46491728, 0.3777846 ]]])"
            ]
          },
          "metadata": {},
          "execution_count": 71
        }
      ]
    },
    {
      "cell_type": "code",
      "metadata": {
        "colab": {
          "base_uri": "https://localhost:8080/"
        },
        "id": "xBLcb61bPI5S",
        "outputId": "f207ec4a-d6e0-46da-c589-90bec4cbaa3b"
      },
      "source": [
        "# Random Integer values = \n",
        "np.random.randint(3,5,size= (2,2,2))"
      ],
      "execution_count": 76,
      "outputs": [
        {
          "output_type": "execute_result",
          "data": {
            "text/plain": [
              "array([[[4, 3],\n",
              "        [3, 3]],\n",
              "\n",
              "       [[4, 3],\n",
              "        [3, 3]]])"
            ]
          },
          "metadata": {},
          "execution_count": 76
        }
      ]
    },
    {
      "cell_type": "code",
      "metadata": {
        "id": "v_dMF4mxPz7g",
        "colab": {
          "base_uri": "https://localhost:8080/"
        },
        "outputId": "5643eeb7-0c54-41f4-bf0b-9936ff0341b6"
      },
      "source": [
        "# The identity matrix\n",
        "np.identity(10).shape"
      ],
      "execution_count": 79,
      "outputs": [
        {
          "output_type": "execute_result",
          "data": {
            "text/plain": [
              "(10, 10)"
            ]
          },
          "metadata": {},
          "execution_count": 79
        }
      ]
    },
    {
      "cell_type": "code",
      "metadata": {
        "colab": {
          "base_uri": "https://localhost:8080/"
        },
        "id": "0PXTELOkSfTQ",
        "outputId": "d5e4c33f-0630-4ea8-c3ad-7eb9b0a4f58d"
      },
      "source": [
        "# Repeat an array\n",
        "a = np.array([[4,5,3]])\n",
        "print(a)\n",
        "print(a.shape)\n",
        "r = np.repeat(a,(1,2,5),axis = 1)\n",
        "\n",
        "print(r)\n",
        "print(r.shape)"
      ],
      "execution_count": 113,
      "outputs": [
        {
          "output_type": "stream",
          "name": "stdout",
          "text": [
            "[[4 5 3]]\n",
            "(1, 3)\n",
            "[[4 5 5 3 3 3 3 3]]\n",
            "(1, 8)\n"
          ]
        }
      ]
    },
    {
      "cell_type": "code",
      "metadata": {
        "colab": {
          "base_uri": "https://localhost:8080/"
        },
        "id": "9v1hYDWGS98F",
        "outputId": "0c0f80a2-e519-4b2a-d23e-ac9ae621768d"
      },
      "source": [
        "output = np.ones([5,5])\n",
        "print(output)"
      ],
      "execution_count": 139,
      "outputs": [
        {
          "output_type": "stream",
          "name": "stdout",
          "text": [
            "[[1. 1. 1. 1. 1.]\n",
            " [1. 1. 1. 1. 1.]\n",
            " [1. 1. 1. 1. 1.]\n",
            " [1. 1. 1. 1. 1.]\n",
            " [1. 1. 1. 1. 1.]]\n"
          ]
        }
      ]
    },
    {
      "cell_type": "code",
      "metadata": {
        "id": "eg-mJEn6YRU1"
      },
      "source": [
        "output[2,2] = 9"
      ],
      "execution_count": 140,
      "outputs": []
    },
    {
      "cell_type": "code",
      "metadata": {
        "id": "PNPwItGfYfQA"
      },
      "source": [
        "output[1,1:4] = 0\n",
        "output[2,1] = 0\n",
        "output[2,3] = 0\n",
        "output[3,1:4] = 0"
      ],
      "execution_count": 141,
      "outputs": []
    },
    {
      "cell_type": "code",
      "metadata": {
        "colab": {
          "base_uri": "https://localhost:8080/"
        },
        "id": "9XNZAyI8Yygr",
        "outputId": "23490f17-01d2-4315-c262-693c338ddb7b"
      },
      "source": [
        "print(output)"
      ],
      "execution_count": 142,
      "outputs": [
        {
          "output_type": "stream",
          "name": "stdout",
          "text": [
            "[[1. 1. 1. 1. 1.]\n",
            " [1. 0. 0. 0. 1.]\n",
            " [1. 0. 9. 0. 1.]\n",
            " [1. 0. 0. 0. 1.]\n",
            " [1. 1. 1. 1. 1.]]\n"
          ]
        }
      ]
    },
    {
      "cell_type": "code",
      "metadata": {
        "colab": {
          "base_uri": "https://localhost:8080/"
        },
        "id": "2t3fwMSrY1CT",
        "outputId": "58d1bdf5-ee98-4160-ef46-275af436f6ba"
      },
      "source": [
        "z = np.zeros([3,3])\n",
        "\n",
        "z[1,1] =9\n",
        "output[1:4 , 1:4] = z\n",
        "\n",
        "print(output)"
      ],
      "execution_count": 143,
      "outputs": [
        {
          "output_type": "stream",
          "name": "stdout",
          "text": [
            "[[1. 1. 1. 1. 1.]\n",
            " [1. 0. 0. 0. 1.]\n",
            " [1. 0. 9. 0. 1.]\n",
            " [1. 0. 0. 0. 1.]\n",
            " [1. 1. 1. 1. 1.]]\n"
          ]
        }
      ]
    },
    {
      "cell_type": "code",
      "metadata": {
        "colab": {
          "base_uri": "https://localhost:8080/"
        },
        "id": "tfjqtNd4Zie8",
        "outputId": "afdbd422-d887-40ff-fe52-44254867b114"
      },
      "source": [
        "b= output.copy()\n",
        "\n",
        "b[2,2] = 100\n",
        "print(b)\n",
        "print(output)"
      ],
      "execution_count": 144,
      "outputs": [
        {
          "output_type": "stream",
          "name": "stdout",
          "text": [
            "[[  1.   1.   1.   1.   1.]\n",
            " [  1.   0.   0.   0.   1.]\n",
            " [  1.   0. 100.   0.   1.]\n",
            " [  1.   0.   0.   0.   1.]\n",
            " [  1.   1.   1.   1.   1.]]\n",
            "[[1. 1. 1. 1. 1.]\n",
            " [1. 0. 0. 0. 1.]\n",
            " [1. 0. 9. 0. 1.]\n",
            " [1. 0. 0. 0. 1.]\n",
            " [1. 1. 1. 1. 1.]]\n"
          ]
        }
      ]
    },
    {
      "cell_type": "markdown",
      "metadata": {
        "id": "OPRTB7fjcRkj"
      },
      "source": [
        "Mathematics"
      ]
    },
    {
      "cell_type": "markdown",
      "metadata": {
        "id": "irmQ-kQLc4o6"
      },
      "source": [
        "Linear Algebra"
      ]
    },
    {
      "cell_type": "code",
      "metadata": {
        "colab": {
          "base_uri": "https://localhost:8080/"
        },
        "id": "mUex02-ycT9a",
        "outputId": "ccaf1128-2442-49a4-cf91-db346000fe1b"
      },
      "source": [
        "#Matrix x\n",
        "a= np.ones((2,3))\n",
        "\n",
        "b = np.full((3,2),2)\n",
        "print(a)\n",
        "print(b)\n",
        "print(np.matmul(a,b))"
      ],
      "execution_count": 150,
      "outputs": [
        {
          "output_type": "stream",
          "name": "stdout",
          "text": [
            "[[1. 1. 1.]\n",
            " [1. 1. 1.]]\n",
            "[[2 2]\n",
            " [2 2]\n",
            " [2 2]]\n",
            "[[6. 6.]\n",
            " [6. 6.]]\n"
          ]
        }
      ]
    },
    {
      "cell_type": "code",
      "metadata": {
        "colab": {
          "base_uri": "https://localhost:8080/"
        },
        "id": "e7yBirgCcB_P",
        "outputId": "b62b4351-6102-49b2-9765-5af5a8630473"
      },
      "source": [
        "c = np.linalg.det(np.matmul(a,b))\n",
        "print(c)"
      ],
      "execution_count": 154,
      "outputs": [
        {
          "output_type": "stream",
          "name": "stdout",
          "text": [
            "0.0\n"
          ]
        }
      ]
    },
    {
      "cell_type": "code",
      "metadata": {
        "id": "tQM9JH-HdvyT"
      },
      "source": [
        "## Reference docs (https://docs.scipy.org/doc/numpy/reference/routines.linalg.html)\n",
        "\n",
        "# Determinant\n",
        "# Trace\n",
        "# Singular Vector Decomposition\n",
        "# Eigenvalues\n",
        "# Matrix Norm\n",
        "# Inverse\n",
        "# Etc..."
      ],
      "execution_count": null,
      "outputs": []
    },
    {
      "cell_type": "code",
      "metadata": {
        "colab": {
          "base_uri": "https://localhost:8080/"
        },
        "id": "fv9WMeFcejIZ",
        "outputId": "bd5904d0-817d-46f0-f547-f4de2f89bb62"
      },
      "source": [
        "#dot\n",
        "#print(np.inner(np.array([[2,1,1],[1,2,3]]),np.array([[3,1],[1,3],[1,2]])))\n",
        "\n",
        "print(np.outer(np.array([[2,1],[1,2]]),np.array([[3,1],[1,3]])))\n",
        "print(np.matmul(np.array([[2,1,1],[1,2,3]]),np.array([[3,1],[1,3],[1,2]])))"
      ],
      "execution_count": 179,
      "outputs": [
        {
          "output_type": "stream",
          "name": "stdout",
          "text": [
            "[[6 2 2 6]\n",
            " [3 1 1 3]\n",
            " [3 1 1 3]\n",
            " [6 2 2 6]]\n",
            "[[ 8  7]\n",
            " [ 8 13]]\n"
          ]
        }
      ]
    },
    {
      "cell_type": "code",
      "metadata": {
        "colab": {
          "base_uri": "https://localhost:8080/"
        },
        "id": "fQQok_aTeWrZ",
        "outputId": "d132da54-53d0-4a0f-91ab-e1a3b180fb85"
      },
      "source": [
        "# Determinant\n",
        "c = np.linalg.det(np.matmul(a,b))\n",
        "print(c)"
      ],
      "execution_count": 155,
      "outputs": [
        {
          "output_type": "stream",
          "name": "stdout",
          "text": [
            "0.0\n"
          ]
        }
      ]
    },
    {
      "cell_type": "markdown",
      "metadata": {
        "id": "BerXgQwahmLx"
      },
      "source": [
        "Statistics"
      ]
    },
    {
      "cell_type": "code",
      "metadata": {
        "colab": {
          "base_uri": "https://localhost:8080/"
        },
        "id": "lFJZj5GOeaBR",
        "outputId": "89842779-5b63-44ef-cad6-e00900be79c8"
      },
      "source": [
        "stats = np.array([[1,2,3],[4,5,6]])\n",
        "print(stats.shape)\n",
        "#min element\n",
        "np.min(stats , axis = 1)\n",
        "\n",
        "np.min(stats, axis = 1)\n"
      ],
      "execution_count": 216,
      "outputs": [
        {
          "output_type": "stream",
          "name": "stdout",
          "text": [
            "(2, 3)\n"
          ]
        },
        {
          "output_type": "execute_result",
          "data": {
            "text/plain": [
              "array([1, 4])"
            ]
          },
          "metadata": {},
          "execution_count": 216
        }
      ]
    },
    {
      "cell_type": "code",
      "metadata": {
        "colab": {
          "base_uri": "https://localhost:8080/"
        },
        "id": "lE4BssNOhu-D",
        "outputId": "90a51bd2-9ee4-4965-e8a1-141ac2a9ea40"
      },
      "source": [
        "#max element\n",
        "np.max(stats, axis = 0)"
      ],
      "execution_count": 223,
      "outputs": [
        {
          "output_type": "execute_result",
          "data": {
            "text/plain": [
              "array([4, 5, 6])"
            ]
          },
          "metadata": {},
          "execution_count": 223
        }
      ]
    },
    {
      "cell_type": "code",
      "metadata": {
        "colab": {
          "base_uri": "https://localhost:8080/"
        },
        "id": "LOYRclnbh6Fq",
        "outputId": "8e289c1c-16e3-4e02-92b2-15c25878e1f9"
      },
      "source": [
        "np.sum(stats, axis = 0)"
      ],
      "execution_count": 220,
      "outputs": [
        {
          "output_type": "execute_result",
          "data": {
            "text/plain": [
              "array([5, 7, 9])"
            ]
          },
          "metadata": {},
          "execution_count": 220
        }
      ]
    },
    {
      "cell_type": "markdown",
      "metadata": {
        "id": "8bq1tfb7jqkL"
      },
      "source": [
        "Reorganizing Arrays"
      ]
    },
    {
      "cell_type": "code",
      "metadata": {
        "id": "5gI5UykZhw18"
      },
      "source": [
        ""
      ],
      "execution_count": null,
      "outputs": []
    }
  ]
}